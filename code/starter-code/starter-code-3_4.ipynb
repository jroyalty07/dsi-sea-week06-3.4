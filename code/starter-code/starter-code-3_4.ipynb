{
 "cells": [
  {
   "cell_type": "markdown",
   "metadata": {},
   "source": [
    "# Model Comparison Lab\n",
    "\n",
    "In this lab we will compare the performance of all the models we have learned about so far, using the car evaluation dataset."
   ]
  },
  {
   "cell_type": "markdown",
   "metadata": {},
   "source": [
    "## 1. Prepare the data\n",
    "\n",
    "The [car evaluation dataset](https://archive.ics.uci.edu/ml/machine-learning-databases/car/) is in the assets/datasets folder. By now you should be very familiar with this dataset.\n",
    "\n",
    "1. Load the data into a pandas dataframe\n",
    "- Encode the categorical features properly: define a map that preserves the scale (assigning smaller numbers to words indicating smaller quantities)\n",
    "- Separate features from target into X and y"
   ]
  },
  {
   "cell_type": "code",
   "execution_count": 2,
   "metadata": {
    "collapsed": false
   },
   "outputs": [],
   "source": [
    "import pandas as pd\n",
    "import numpy as np\n",
    "import matplotlib.pyplot as plt\n",
    "%matplotlib inline\n",
    "\n",
    "data = pd.read_csv('../../assets/datasets/car.csv')\n",
    "\n",
    "#use value counts of column to create map\n",
    "mappy = {\n",
    "    'low' : 1,\n",
    "    'small': 1,\n",
    "    'med' : 2,\n",
    "    'high': 3,\n",
    "    'big' : 3,\n",
    "    'vhigh': 4,\n",
    "    'unacc': 1,\n",
    "    'acc': 2,\n",
    "    'good': 3,\n",
    "    'vgood': 4,\n",
    "    '2': 2,\n",
    "    '3': 3,\n",
    "    '4': 4,\n",
    "    '5more': 5,\n",
    "    'more': 6,\n",
    "}\n",
    "\n"
   ]
  },
  {
   "cell_type": "code",
   "execution_count": 3,
   "metadata": {
    "collapsed": false
   },
   "outputs": [
    {
     "data": {
      "text/html": [
       "<div>\n",
       "<table border=\"1\" class=\"dataframe\">\n",
       "  <thead>\n",
       "    <tr style=\"text-align: right;\">\n",
       "      <th></th>\n",
       "      <th>buying</th>\n",
       "      <th>maint</th>\n",
       "      <th>doors</th>\n",
       "      <th>persons</th>\n",
       "      <th>lug_boot</th>\n",
       "      <th>safety</th>\n",
       "      <th>acceptability</th>\n",
       "    </tr>\n",
       "  </thead>\n",
       "  <tbody>\n",
       "    <tr>\n",
       "      <th>0</th>\n",
       "      <td>4</td>\n",
       "      <td>4</td>\n",
       "      <td>2</td>\n",
       "      <td>2</td>\n",
       "      <td>1</td>\n",
       "      <td>1</td>\n",
       "      <td>1</td>\n",
       "    </tr>\n",
       "    <tr>\n",
       "      <th>1</th>\n",
       "      <td>4</td>\n",
       "      <td>4</td>\n",
       "      <td>2</td>\n",
       "      <td>2</td>\n",
       "      <td>1</td>\n",
       "      <td>2</td>\n",
       "      <td>1</td>\n",
       "    </tr>\n",
       "    <tr>\n",
       "      <th>2</th>\n",
       "      <td>4</td>\n",
       "      <td>4</td>\n",
       "      <td>2</td>\n",
       "      <td>2</td>\n",
       "      <td>1</td>\n",
       "      <td>3</td>\n",
       "      <td>1</td>\n",
       "    </tr>\n",
       "    <tr>\n",
       "      <th>3</th>\n",
       "      <td>4</td>\n",
       "      <td>4</td>\n",
       "      <td>2</td>\n",
       "      <td>2</td>\n",
       "      <td>2</td>\n",
       "      <td>1</td>\n",
       "      <td>1</td>\n",
       "    </tr>\n",
       "    <tr>\n",
       "      <th>4</th>\n",
       "      <td>4</td>\n",
       "      <td>4</td>\n",
       "      <td>2</td>\n",
       "      <td>2</td>\n",
       "      <td>2</td>\n",
       "      <td>2</td>\n",
       "      <td>1</td>\n",
       "    </tr>\n",
       "  </tbody>\n",
       "</table>\n",
       "</div>"
      ],
      "text/plain": [
       "   buying  maint  doors  persons  lug_boot  safety  acceptability\n",
       "0       4      4      2        2         1       1              1\n",
       "1       4      4      2        2         1       2              1\n",
       "2       4      4      2        2         1       3              1\n",
       "3       4      4      2        2         2       1              1\n",
       "4       4      4      2        2         2       2              1"
      ]
     },
     "execution_count": 3,
     "metadata": {},
     "output_type": "execute_result"
    }
   ],
   "source": [
    "df = data.applymap(lambda x : mappy[x])\n",
    "df.head()"
   ]
  },
  {
   "cell_type": "code",
   "execution_count": 4,
   "metadata": {
    "collapsed": true
   },
   "outputs": [],
   "source": [
    "X = df.drop('acceptability',axis = 1)\n",
    "y = df['acceptability']"
   ]
  },
  {
   "cell_type": "markdown",
   "metadata": {},
   "source": [
    "## 2. Useful preparation\n",
    "\n",
    "Since we will compare several models, let's write a couple of helper functions.\n",
    "\n",
    "1. Separate X and y between a train and test set, using 30% test set, random state = 42\n",
    "    - make sure that the data is shuffled and stratified\n",
    "2. Define a function called `evaluate_model`, that trains the model on the train set, tests it on the test, calculates:\n",
    "    - accuracy score\n",
    "    - confusion matrix\n",
    "    - classification report\n",
    "3. Initialize a global dictionary to store the various models for later retrieval\n"
   ]
  },
  {
   "cell_type": "code",
   "execution_count": 5,
   "metadata": {
    "collapsed": false
   },
   "outputs": [
    {
     "name": "stderr",
     "output_type": "stream",
     "text": [
      "/Users/jroyalty/anaconda/lib/python2.7/site-packages/sklearn/cross_validation.py:44: DeprecationWarning: This module was deprecated in version 0.18 in favor of the model_selection module into which all the refactored classes and functions are moved. Also note that the interface of the new CV iterators are different from that of this module. This module will be removed in 0.20.\n",
      "  \"This module will be removed in 0.20.\", DeprecationWarning)\n"
     ]
    }
   ],
   "source": [
    "from sklearn.tree import DecisionTreeRegressor\n",
    "from sklearn.model_selection import train_test_split, cross_val_score, GridSearchCV\n",
    "from sklearn.cross_validation import KFold\n",
    "\n",
    "from sklearn.metrics import confusion_matrix, classification_report, accuracy_score\n",
    "\n",
    "X_train, X_test, y_train, y_test = train_test_split(X, y, test_size=0.30, random_state=42, stratify = y)\n",
    "\n",
    "all_models = {}\n",
    "\n",
    "def evaluate_model(model):\n",
    "    model.fit(X_train,y_train)\n",
    "    y_pred = model.predict(X_test)\n",
    "    score = accuracy_score(y_pred,y_test)\n",
    "    print \"SCORE: %s\" % score\n",
    "    #print \"Score: %s\" % model.score(y_test,y_pred)\n",
    "    print \"<------------------------------------------->\"\n",
    "    cnf = confusion_matrix(y_test, y_pred)\n",
    "    print \"CONFUSION MATRIX\"\n",
    "    print pd.DataFrame(cnf, columns = ['pred_unacc', 'pred_acc', 'pred_good', 'pred_vgood'], \n",
    "                       index = ['unacc', 'acc', 'good', 'vgood'])\n",
    "    print \"<------------------------------------------->\"\n",
    "    print classification_report(y_test, y_pred, target_names = ['unacc', 'acc', 'good', 'vgood'])\n",
    "    return score\n",
    "    \n",
    "def gridder(model, params):\n",
    "    gs = GridSearchCV(model,\n",
    "                     params,\n",
    "                     cv=KFold(len(y), shuffle=True))\n",
    "    gs.fit(X,y)\n",
    "    print \"Best params: %s\" % gs.best_params_\n",
    "    print \"Best score: %s\" % gs.best_score_\n",
    "    return gs"
   ]
  },
  {
   "cell_type": "markdown",
   "metadata": {},
   "source": [
    "## 3.a KNN\n",
    "\n",
    "Let's start with `KNeighborsClassifier`.\n",
    "\n",
    "1. Initialize a KNN model\n",
    "- Evaluate it's performance with the function you previously defined\n",
    "- Find the optimal value of K using grid search\n",
    "    - Be careful on how you perform the cross validation in the grid search"
   ]
  },
  {
   "cell_type": "code",
   "execution_count": 6,
   "metadata": {
    "collapsed": false
   },
   "outputs": [
    {
     "name": "stdout",
     "output_type": "stream",
     "text": [
      "SCORE: 0.938342967245\n",
      "<------------------------------------------->\n",
      "CONFUSION MATRIX\n",
      "       pred_unacc  pred_acc  pred_good  pred_vgood\n",
      "unacc         357         6          0           0\n",
      "acc             8       106          1           0\n",
      "good            1        11          9           0\n",
      "vgood           0         4          1          15\n",
      "<------------------------------------------->\n",
      "             precision    recall  f1-score   support\n",
      "\n",
      "      unacc       0.98      0.98      0.98       363\n",
      "        acc       0.83      0.92      0.88       115\n",
      "       good       0.82      0.43      0.56        21\n",
      "      vgood       1.00      0.75      0.86        20\n",
      "\n",
      "avg / total       0.94      0.94      0.93       519\n",
      "\n",
      "KNN GRIDSEARCH\n",
      "Best params: {'n_neighbors': 5}\n",
      "Best score: 0.929398148148\n",
      "SCORE: 0.938342967245\n",
      "<------------------------------------------->\n",
      "CONFUSION MATRIX\n",
      "       pred_unacc  pred_acc  pred_good  pred_vgood\n",
      "unacc         357         6          0           0\n",
      "acc             8       106          1           0\n",
      "good            1        11          9           0\n",
      "vgood           0         4          1          15\n",
      "<------------------------------------------->\n",
      "             precision    recall  f1-score   support\n",
      "\n",
      "      unacc       0.98      0.98      0.98       363\n",
      "        acc       0.83      0.92      0.88       115\n",
      "       good       0.82      0.43      0.56        21\n",
      "      vgood       1.00      0.75      0.86        20\n",
      "\n",
      "avg / total       0.94      0.94      0.93       519\n",
      "\n"
     ]
    }
   ],
   "source": [
    "from sklearn.neighbors import KNeighborsClassifier    \n",
    "\n",
    "all_models['knn'] = {'model': KNeighborsClassifier(),\n",
    "                    'score': evaluate_model(KNeighborsClassifier())}\n",
    "param_grid = {\n",
    "    'n_neighbors': range(1,10),\n",
    "}\n",
    "\n",
    "print \"KNN GRIDSEARCH\"\n",
    "gs_knn = gridder(KNeighborsClassifier(), param_grid)\n",
    "\n",
    "all_models['gs_knn'] = {'model': gs_knn.best_estimator_,\n",
    "                    'score': evaluate_model(gs_knn.best_estimator_)}\n",
    "\n"
   ]
  },
  {
   "cell_type": "markdown",
   "metadata": {},
   "source": [
    "## 3.b Bagging + KNN\n",
    "\n",
    "Now that we have found the optimal K, let's wrap `KNeighborsClassifier` in a BaggingClassifier and see if the score improves.\n",
    "\n",
    "1. Wrap the KNN model in a Bagging Classifier\n",
    "- Evaluate performance\n",
    "- Do a grid search only on the bagging classifier params"
   ]
  },
  {
   "cell_type": "code",
   "execution_count": 7,
   "metadata": {
    "collapsed": false
   },
   "outputs": [
    {
     "name": "stdout",
     "output_type": "stream",
     "text": [
      "SCORE: 0.93063583815\n",
      "<------------------------------------------->\n",
      "CONFUSION MATRIX\n",
      "       pred_unacc  pred_acc  pred_good  pred_vgood\n",
      "unacc         356         7          0           0\n",
      "acc            11       101          3           0\n",
      "good            0         9         12           0\n",
      "vgood           0         6          0          14\n",
      "<------------------------------------------->\n",
      "             precision    recall  f1-score   support\n",
      "\n",
      "      unacc       0.97      0.98      0.98       363\n",
      "        acc       0.82      0.88      0.85       115\n",
      "       good       0.80      0.57      0.67        21\n",
      "      vgood       1.00      0.70      0.82        20\n",
      "\n",
      "avg / total       0.93      0.93      0.93       519\n",
      "\n",
      "Bagging + KNN + GRIDSEARCH\n",
      "Best params: {'n_estimators': 20, 'max_samples': 1.0, 'bootstrap_features': False}\n",
      "Best score: 0.9375\n",
      "SCORE: 0.938342967245\n",
      "<------------------------------------------->\n",
      "CONFUSION MATRIX\n",
      "       pred_unacc  pred_acc  pred_good  pred_vgood\n",
      "unacc         356         7          0           0\n",
      "acc             8       106          1           0\n",
      "good            0         9         11           1\n",
      "vgood           0         4          2          14\n",
      "<------------------------------------------->\n",
      "             precision    recall  f1-score   support\n",
      "\n",
      "      unacc       0.98      0.98      0.98       363\n",
      "        acc       0.84      0.92      0.88       115\n",
      "       good       0.79      0.52      0.63        21\n",
      "      vgood       0.93      0.70      0.80        20\n",
      "\n",
      "avg / total       0.94      0.94      0.94       519\n",
      "\n"
     ]
    }
   ],
   "source": [
    "from sklearn.ensemble import BaggingClassifier\n",
    "\n",
    "bag_knn = BaggingClassifier(KNeighborsClassifier())\n",
    "\n",
    "# evaluate_model(bag_knn)\n",
    "all_models['knn_bagging'] = {'model': bag_knn,\n",
    "                    'score': evaluate_model(bag_knn)}\n",
    "\n",
    "param_grid = {\n",
    "    'n_estimators': [10, 20],\n",
    "    'max_samples': [0.7, 1.0],\n",
    "    'bootstrap_features': [True, False]\n",
    "             }\n",
    "\n",
    "print \"Bagging + KNN + GRIDSEARCH\"\n",
    "gs_bag_knn = gridder(bag_knn, param_grid)\n",
    "\n",
    "all_models['gs_knn_bagging'] = {'model': gs_bag_knn.best_estimator_,\n",
    "                    'score': evaluate_model(gs_bag_knn.best_estimator_)}"
   ]
  },
  {
   "cell_type": "markdown",
   "metadata": {},
   "source": [
    "## 4. Logistic Regression\n",
    "\n",
    "Let's see if logistic regression performs better\n",
    "\n",
    "1. Initialize LR and test on Train/Test set\n",
    "- Find optimal params with Grid Search\n",
    "- See if Bagging improves the score"
   ]
  },
  {
   "cell_type": "code",
   "execution_count": 8,
   "metadata": {
    "collapsed": false
   },
   "outputs": [
    {
     "name": "stdout",
     "output_type": "stream",
     "text": [
      "SCORE: 0.763005780347\n",
      "<------------------------------------------->\n",
      "CONFUSION MATRIX\n",
      "       pred_unacc  pred_acc  pred_good  pred_vgood\n",
      "unacc         346        11          4           2\n",
      "acc            65        48          2           0\n",
      "good            6        13          1           1\n",
      "vgood           0        19          0           1\n",
      "<------------------------------------------->\n",
      "             precision    recall  f1-score   support\n",
      "\n",
      "      unacc       0.83      0.95      0.89       363\n",
      "        acc       0.53      0.42      0.47       115\n",
      "       good       0.14      0.05      0.07        21\n",
      "      vgood       0.25      0.05      0.08        20\n",
      "\n",
      "avg / total       0.71      0.76      0.73       519\n",
      "\n",
      "Logit + GRIDSEARCH\n",
      "Best params: {'penalty': 'l1', 'C': 100}\n",
      "Best score: 0.814814814815\n",
      "SCORE: 0.791907514451\n",
      "<------------------------------------------->\n",
      "CONFUSION MATRIX\n",
      "       pred_unacc  pred_acc  pred_good  pred_vgood\n",
      "unacc         344        14          3           2\n",
      "acc            58        55          2           0\n",
      "good            7        12          1           1\n",
      "vgood           0         9          0          11\n",
      "<------------------------------------------->\n",
      "             precision    recall  f1-score   support\n",
      "\n",
      "      unacc       0.84      0.95      0.89       363\n",
      "        acc       0.61      0.48      0.54       115\n",
      "       good       0.17      0.05      0.07        21\n",
      "      vgood       0.79      0.55      0.65        20\n",
      "\n",
      "avg / total       0.76      0.79      0.77       519\n",
      "\n"
     ]
    }
   ],
   "source": [
    "from sklearn.linear_model import LogisticRegression\n",
    "logit = LogisticRegression()\n",
    "\n",
    "all_models['logit'] = {'model': logit,\n",
    "                    'score': evaluate_model(logit)}\n",
    "\n",
    "param_grid = {\n",
    "    'penalty': ['l1','l2'],\n",
    "    'C': [.001, .01, .1, 1, 100],\n",
    "}\n",
    "\n",
    "print \"Logit + GRIDSEARCH\"\n",
    "gs_logit = gridder(logit, param_grid)\n",
    "\n",
    "all_models['gs_logit'] = {'model': gs_logit.best_estimator_,\n",
    "                    'score': evaluate_model(gs_logit.best_estimator_)}\n"
   ]
  },
  {
   "cell_type": "markdown",
   "metadata": {},
   "source": [
    "## 5. Decision Trees\n",
    "\n",
    "Let's see if Decision Trees perform better\n",
    "\n",
    "1. Initialize DT and test on Train/Test set\n",
    "- Find optimal params with Grid Search\n",
    "- See if Bagging improves the score"
   ]
  },
  {
   "cell_type": "code",
   "execution_count": 9,
   "metadata": {
    "collapsed": false
   },
   "outputs": [
    {
     "name": "stdout",
     "output_type": "stream",
     "text": [
      "SCORE: 0.963391136802\n",
      "<------------------------------------------->\n",
      "CONFUSION MATRIX\n",
      "       pred_unacc  pred_acc  pred_good  pred_vgood\n",
      "unacc         361         2          0           0\n",
      "acc             9       104          2           0\n",
      "good            1         4         16           0\n",
      "vgood           0         1          0          19\n",
      "<------------------------------------------->\n",
      "             precision    recall  f1-score   support\n",
      "\n",
      "      unacc       0.97      0.99      0.98       363\n",
      "        acc       0.94      0.90      0.92       115\n",
      "       good       0.89      0.76      0.82        21\n",
      "      vgood       1.00      0.95      0.97        20\n",
      "\n",
      "avg / total       0.96      0.96      0.96       519\n",
      "\n",
      "Decision tree + GRIDSEARCH\n",
      "Best params: {'min_samples_split': 2, 'splitter': 'best', 'criterion': 'gini', 'max_depth': None, 'min_samples_leaf': 1}\n",
      "Best score: 0.980902777778\n",
      "SCORE: 0.969171483622\n",
      "<------------------------------------------->\n",
      "CONFUSION MATRIX\n",
      "       pred_unacc  pred_acc  pred_good  pred_vgood\n",
      "unacc         361         2          0           0\n",
      "acc             9       105          1           0\n",
      "good            1         2         18           0\n",
      "vgood           0         1          0          19\n",
      "<------------------------------------------->\n",
      "             precision    recall  f1-score   support\n",
      "\n",
      "      unacc       0.97      0.99      0.98       363\n",
      "        acc       0.95      0.91      0.93       115\n",
      "       good       0.95      0.86      0.90        21\n",
      "      vgood       1.00      0.95      0.97        20\n",
      "\n",
      "avg / total       0.97      0.97      0.97       519\n",
      "\n"
     ]
    }
   ],
   "source": [
    "from sklearn.tree import DecisionTreeClassifier\n",
    "dt = DecisionTreeClassifier()\n",
    "\n",
    "all_models['logit'] = {'model': dt,\n",
    "                    'score': evaluate_model(dt)}\n",
    "\n",
    "param_grid = {\n",
    "    'criterion': ['gini', 'entropy'],\n",
    "    'splitter': ['best', 'random'],\n",
    "    'max_depth': [None, 5, 10],\n",
    "    'min_samples_split': [2, 5],\n",
    "    'min_samples_leaf': [1, 2, 3]\n",
    "}\n",
    "\n",
    "print \"Decision tree + GRIDSEARCH\"\n",
    "gs_dt = gridder(dt, param_grid)\n",
    "\n",
    "all_models['gs_dt'] = {'model': gs_dt.best_estimator_,\n",
    "                    'score': evaluate_model(gs_dt.best_estimator_)}\n"
   ]
  },
  {
   "cell_type": "markdown",
   "metadata": {},
   "source": [
    "## 6. Support Vector Machines\n",
    "\n",
    "Let's see if SVM perform better\n",
    "\n",
    "1. Initialize SVM and test on Train/Test set\n",
    "- Find optimal params with Grid Search\n",
    "- See if Bagging improves the score"
   ]
  },
  {
   "cell_type": "code",
   "execution_count": 10,
   "metadata": {
    "collapsed": false
   },
   "outputs": [
    {
     "name": "stdout",
     "output_type": "stream",
     "text": [
      "SCORE: 0.949903660886\n",
      "<------------------------------------------->\n",
      "CONFUSION MATRIX\n",
      "       pred_unacc  pred_acc  pred_good  pred_vgood\n",
      "unacc         355         8          0           0\n",
      "acc             6       108          1           0\n",
      "good            0         7         12           2\n",
      "vgood           0         2          0          18\n",
      "<------------------------------------------->\n",
      "             precision    recall  f1-score   support\n",
      "\n",
      "      unacc       0.98      0.98      0.98       363\n",
      "        acc       0.86      0.94      0.90       115\n",
      "       good       0.92      0.57      0.71        21\n",
      "      vgood       0.90      0.90      0.90        20\n",
      "\n",
      "avg / total       0.95      0.95      0.95       519\n",
      "\n",
      "SVM + Gridsearch\n",
      "Best params: {'kernel': 'rbf', 'C': 100.0, 'gamma': 'auto'}\n",
      "Best score: 0.990162037037\n",
      "SCORE: 0.982658959538\n",
      "<------------------------------------------->\n",
      "CONFUSION MATRIX\n",
      "       pred_unacc  pred_acc  pred_good  pred_vgood\n",
      "unacc         360         3          0           0\n",
      "acc             4       111          0           0\n",
      "good            0         2         19           0\n",
      "vgood           0         0          0          20\n",
      "<------------------------------------------->\n",
      "             precision    recall  f1-score   support\n",
      "\n",
      "      unacc       0.99      0.99      0.99       363\n",
      "        acc       0.96      0.97      0.96       115\n",
      "       good       1.00      0.90      0.95        21\n",
      "      vgood       1.00      1.00      1.00        20\n",
      "\n",
      "avg / total       0.98      0.98      0.98       519\n",
      "\n"
     ]
    }
   ],
   "source": [
    "from sklearn.svm import SVC\n",
    "\n",
    "svm = SVC()\n",
    "all_models['svm'] = {'model': svm,\n",
    "                     'score': evaluate_model(svm)}\n",
    "param_grid = {\n",
    "    'C': [0.01, 0.1, 1.0, 10.0, 30.0, 100.0],\n",
    "    'gamma': ['auto', 0.1, 1.0, 10.0],\n",
    "    'kernel': ['linear', 'rbf']\n",
    "}\n",
    "\n",
    "print \"SVM + Gridsearch\"\n",
    "gs_svm = gridder(svm, param_grid)\n",
    "\n",
    "all_models['gs_svm'] = {'model': gs_svm.best_estimator_,\n",
    "                    'score': evaluate_model(gs_svm.best_estimator_)}\n"
   ]
  },
  {
   "cell_type": "markdown",
   "metadata": {},
   "source": [
    "## 7. Random Forest & Extra Trees\n",
    "\n",
    "Let's see if Random Forest and Extra Trees perform better\n",
    "\n",
    "1. Initialize RF and ET and test on Train/Test set\n",
    "- Find optimal params with Grid Search"
   ]
  },
  {
   "cell_type": "code",
   "execution_count": 11,
   "metadata": {
    "collapsed": false
   },
   "outputs": [
    {
     "name": "stdout",
     "output_type": "stream",
     "text": [
      "SCORE: 0.965317919075\n",
      "<------------------------------------------->\n",
      "CONFUSION MATRIX\n",
      "       pred_unacc  pred_acc  pred_good  pred_vgood\n",
      "unacc         359         4          0           0\n",
      "acc             5       109          1           0\n",
      "good            1         5         14           1\n",
      "vgood           0         1          0          19\n",
      "<------------------------------------------->\n",
      "             precision    recall  f1-score   support\n",
      "\n",
      "      unacc       0.98      0.99      0.99       363\n",
      "        acc       0.92      0.95      0.93       115\n",
      "       good       0.93      0.67      0.78        21\n",
      "      vgood       0.95      0.95      0.95        20\n",
      "\n",
      "avg / total       0.97      0.97      0.96       519\n",
      "\n",
      "Random forest + Gridsearch\n",
      "Best params: {'min_samples_split': 2, 'n_estimators': 50, 'criterion': 'gini', 'max_depth': None, 'class_weight': 'balanced'}\n",
      "Best score: 0.976851851852\n",
      "SCORE: 0.965317919075\n",
      "<------------------------------------------->\n",
      "CONFUSION MATRIX\n",
      "       pred_unacc  pred_acc  pred_good  pred_vgood\n",
      "unacc         360         2          1           0\n",
      "acc             5       108          1           1\n",
      "good            1         4         14           2\n",
      "vgood           0         1          0          19\n",
      "<------------------------------------------->\n",
      "             precision    recall  f1-score   support\n",
      "\n",
      "      unacc       0.98      0.99      0.99       363\n",
      "        acc       0.94      0.94      0.94       115\n",
      "       good       0.88      0.67      0.76        21\n",
      "      vgood       0.86      0.95      0.90        20\n",
      "\n",
      "avg / total       0.96      0.97      0.96       519\n",
      "\n"
     ]
    }
   ],
   "source": [
    "from sklearn.ensemble import RandomForestClassifier, ExtraTreesClassifier\n",
    "\n",
    "rf = RandomForestClassifier()\n",
    "all_models['rf'] = {\n",
    "    'model': rf,\n",
    "    'score': evaluate_model(rf)\n",
    "}\n",
    "\n",
    "\n",
    "param_grid = {\n",
    "    'n_estimators':[3, 5, 10, 50],\n",
    "    'criterion': ['gini', 'entropy'],\n",
    "    'max_depth': [None, 3, 5],\n",
    "    'min_samples_split': [2,5],\n",
    "    'class_weight':[None, 'balanced']\n",
    "}\n",
    "\n",
    "print \"Random forest + Gridsearch\"\n",
    "gs_rf = gridder(rf, param_grid)\n",
    "\n",
    "all_models['gs_rf'] = {\n",
    "    'model': gs_rf.best_estimator_,\n",
    "    'score': evaluate_model(gs_rf.best_estimator_)}\n"
   ]
  },
  {
   "cell_type": "code",
   "execution_count": 12,
   "metadata": {
    "collapsed": false
   },
   "outputs": [
    {
     "name": "stdout",
     "output_type": "stream",
     "text": [
      "SCORE: 0.944123314066\n",
      "<------------------------------------------->\n",
      "CONFUSION MATRIX\n",
      "       pred_unacc  pred_acc  pred_good  pred_vgood\n",
      "unacc         355         7          1           0\n",
      "acc             7       104          2           2\n",
      "good            0         7         12           2\n",
      "vgood           0         1          0          19\n",
      "<------------------------------------------->\n",
      "             precision    recall  f1-score   support\n",
      "\n",
      "      unacc       0.98      0.98      0.98       363\n",
      "        acc       0.87      0.90      0.89       115\n",
      "       good       0.80      0.57      0.67        21\n",
      "      vgood       0.83      0.95      0.88        20\n",
      "\n",
      "avg / total       0.94      0.94      0.94       519\n",
      "\n",
      "ET + Gridsearch\n",
      "Best params: {'min_samples_split': 2, 'n_estimators': 50, 'criterion': 'gini', 'max_depth': None, 'class_weight': 'balanced'}\n",
      "Best score: 0.977430555556\n",
      "SCORE: 0.957610789981\n",
      "<------------------------------------------->\n",
      "CONFUSION MATRIX\n",
      "       pred_unacc  pred_acc  pred_good  pred_vgood\n",
      "unacc         359         3          1           0\n",
      "acc             7       107          0           1\n",
      "good            1         4         14           2\n",
      "vgood           0         3          0          17\n",
      "<------------------------------------------->\n",
      "             precision    recall  f1-score   support\n",
      "\n",
      "      unacc       0.98      0.99      0.98       363\n",
      "        acc       0.91      0.93      0.92       115\n",
      "       good       0.93      0.67      0.78        21\n",
      "      vgood       0.85      0.85      0.85        20\n",
      "\n",
      "avg / total       0.96      0.96      0.96       519\n",
      "\n"
     ]
    }
   ],
   "source": [
    "et = ExtraTreesClassifier()\n",
    "all_models['et'] = {'model': et,\n",
    "                    'score': evaluate_model(et)}\n",
    "\n",
    "print \"ET + Gridsearch\"\n",
    "gs_et = gridder(rf, param_grid)\n",
    "\n",
    "all_models['gs_et'] = {\n",
    "    'model': gs_et.best_estimator_,\n",
    "    'score': evaluate_model(gs_et.best_estimator_)}"
   ]
  },
  {
   "cell_type": "markdown",
   "metadata": {},
   "source": [
    "## 8. Model comparison\n",
    "\n",
    "Let's compare the scores of the various models.\n",
    "\n",
    "1. Do a bar chart of the scores of the best models. Who's the winner on the train/test split?\n",
    "- Re-test all the models using a 3 fold stratified shuffled cross validation\n",
    "- Do a bar chart with errorbars of the cross validation average scores. is the winner the same?\n"
   ]
  },
  {
   "cell_type": "code",
   "execution_count": 42,
   "metadata": {
    "collapsed": false
   },
   "outputs": [
    {
     "name": "stdout",
     "output_type": "stream",
     "text": [
      "I am pretty sure I already did number 2.\n"
     ]
    },
    {
     "data": {
      "image/png": "[encoded data removed]",
      "text/plain": [
       "<matplotlib.figure.Figure at 0x114e26a90>"
      ]
     },
     "metadata": {},
     "output_type": "display_data"
    }
   ],
   "source": [
    "scores = []\n",
    "names = []\n",
    "models = []\n",
    "for model in all_models:\n",
    "    names.append(model)\n",
    "    scores.append(all_models[model]['score'])\n",
    "    models.append(all_models[model]['model'])\n",
    "\n",
    "scores = pd.DataFrame(scores, columns = ['score'])\n",
    "scores['name'] = names\n",
    "new = scores.sort_values('score', ascending = True)\n",
    "new.head()\n",
    "new.plot(x='name', y = 'score', kind = 'bar', legend = False)\n",
    "\n",
    "print \"I am pretty sure I already did number 2.\"\n",
    "\n"
   ]
  },
  {
   "cell_type": "code",
   "execution_count": 40,
   "metadata": {
    "collapsed": false
   },
   "outputs": [],
   "source": [
    "from sklearn.model_selection import cross_val_score\n",
    "means = []\n",
    "stds = []\n",
    "\n",
    "for m in models:\n",
    "    temp = cross_val_score(m, X_train, y_train, cv = 3)\n",
    "    means += [np.mean(temp)]\n",
    "    stds += [np.std(temp)]"
   ]
  },
  {
   "cell_type": "code",
   "execution_count": 47,
   "metadata": {
    "collapsed": false
   },
   "outputs": [
    {
     "data": {
      "text/plain": [
       "<matplotlib.axes._subplots.AxesSubplot at 0x116d684d0>"
      ]
     },
     "execution_count": 47,
     "metadata": {},
     "output_type": "execute_result"
    },
    {
     "data": {
      "image/png": "[encoded data removed]",
      "text/plain": [
       "<matplotlib.figure.Figure at 0x116a74b90>"
      ]
     },
     "metadata": {},
     "output_type": "display_data"
    }
   ],
   "source": [
    "# get mean and std, y is mean\n",
    "scores['mean'] = means\n",
    "scores['stds'] = stds\n",
    "scores = scores.sort_values('score', ascending = True)\n",
    "scores.head()\n",
    "\n",
    "scores.plot(x='name', y = 'score', kind = 'bar', yerr ='stds', legend = False)\n"
   ]
  },
  {
   "cell_type": "markdown",
   "metadata": {},
   "source": [
    "## Bonus\n",
    "\n",
    "We have encoded the data using a map that preserves the scale.\n",
    "Would our results have changed if we had encoded the categorical data using `pd.get_dummies` or `OneHotEncoder`  to encode them as binary variables instead?\n",
    "\n",
    "1. Repeat the analysis for this scenario. Is it better?\n",
    "- Experiment with other models or other parameters, can you beat your classmates best score?"
   ]
  },
  {
   "cell_type": "code",
   "execution_count": null,
   "metadata": {
    "collapsed": false
   },
   "outputs": [],
   "source": []
  },
  {
   "cell_type": "code",
   "execution_count": null,
   "metadata": {
    "collapsed": true
   },
   "outputs": [],
   "source": []
  }
 ],
 "metadata": {
  "anaconda-cloud": {},
  "kernelspec": {
   "display_name": "Python [default]",
   "language": "python",
   "name": "python2"
  },
  "language_info": {
   "codemirror_mode": {
    "name": "ipython",
    "version": 2
   },
   "file_extension": ".py",
   "mimetype": "text/x-python",
   "name": "python",
   "nbconvert_exporter": "python",
   "pygments_lexer": "ipython2",
   "version": "2.7.12"
  }
 },
 "nbformat": 4,
 "nbformat_minor": 0
}
